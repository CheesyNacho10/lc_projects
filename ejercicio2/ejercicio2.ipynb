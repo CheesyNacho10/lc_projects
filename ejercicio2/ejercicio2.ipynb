{
 "cells": [
  {
   "cell_type": "markdown",
   "metadata": {},
   "source": [
    "# Ejercicio 2: POS Tagging"
   ]
  },
  {
   "cell_type": "markdown",
   "metadata": {},
   "source": [
    "## 1. Preprocesado del corpus"
   ]
  },
  {
   "cell_type": "markdown",
   "metadata": {},
   "source": [
    "Lectura o descarga del corpus"
   ]
  },
  {
   "cell_type": "code",
   "execution_count": 1,
   "metadata": {},
   "outputs": [
    {
     "name": "stderr",
     "output_type": "stream",
     "text": [
      "[nltk_data] Downloading package cess_esp to\n",
      "[nltk_data]     C:\\Users\\NachoDíez\\AppData\\Roaming\\nltk_data...\n",
      "[nltk_data]   Package cess_esp is already up-to-date!\n"
     ]
    }
   ],
   "source": [
    "import os\n",
    "import nltk\n",
    "from nltk.corpus import cess_esp\n",
    "\n",
    "CORPUS_FILE = \"./corpus.txt\"\n",
    "\n",
    "if not os.path.exists(CORPUS_FILE):\n",
    "    nltk.download(\"cess_esp\")\n",
    "    corpus_sentences = cess_esp.tagged_sents()\n",
    "\n",
    "    outfile = open(CORPUS_FILE, 'w') \n",
    "    for sentence in (corpus_sentences):\n",
    "        str_sent = ''\n",
    "        for element in sentence:\n",
    "            str_sent = str_sent + ('~'.join(element) + ' ')\n",
    "        outfile.write(str_sent + '\\n')\n",
    "    outfile.close()\n",
    "else:\n",
    "    infile = open(CORPUS_FILE, 'r')\n",
    "    corpus_sentences = []\n",
    "    for sentence in infile:\n",
    "        corpus_line = []\n",
    "        for element in sentence.split():\n",
    "            corpus_line.append(tuple(element.split('~')))\n",
    "        corpus_sentences.append(corpus_line)\n",
    "    infile.close()"
   ]
  },
  {
   "cell_type": "markdown",
   "metadata": {},
   "source": [
    "Reducción de etiquetas"
   ]
  },
  {
   "cell_type": "code",
   "execution_count": 2,
   "metadata": {},
   "outputs": [],
   "source": [
    "transformed_corpus = []\n",
    "for sentence in corpus_sentences:\n",
    "    new_line = []\n",
    "    for word, key in sentence:\n",
    "        if word == \"*0*\" and key == \"sn\":\n",
    "            continue\n",
    "        elif key[0] == 'v' or key[0] == 'F':\n",
    "            key = key[:3]\n",
    "        else:\n",
    "            key = key[:2]\n",
    "        new_line.append((word,key))\n",
    "    transformed_corpus.append(new_line)"
   ]
  },
  {
   "cell_type": "markdown",
   "metadata": {},
   "source": [
    "División en conjuntos de entrenamiento y test"
   ]
  },
  {
   "cell_type": "code",
   "execution_count": 3,
   "metadata": {},
   "outputs": [],
   "source": [
    "from sklearn.model_selection import train_test_split\n",
    "training_corpus, test_corpus = train_test_split(transformed_corpus, train_size=0.9, test_size=0.1)"
   ]
  },
  {
   "cell_type": "markdown",
   "metadata": {},
   "source": [
    "## 2. Utilidades"
   ]
  },
  {
   "cell_type": "markdown",
   "metadata": {},
   "source": [
    "### 2.1 Evaluación"
   ]
  },
  {
   "cell_type": "markdown",
   "metadata": {},
   "source": [
    "10-fold cross validation"
   ]
  },
  {
   "cell_type": "code",
   "execution_count": 17,
   "metadata": {},
   "outputs": [],
   "source": [
    "from nltk.tag import hmm, tnt\n",
    "from random import shuffle\n",
    "\n",
    "def ten_fold_validation(tagger):\n",
    "    fold_size = int(len(transformed_corpus)/10)\n",
    "    shuffled_corpus = transformed_corpus.copy()\n",
    "    shuffle(shuffled_corpus)\n",
    "    accuracies = []\n",
    "\n",
    "    for i in range(10):\n",
    "        folded_test_corpus = shuffled_corpus[i*fold_size:(i+1)*fold_size]\n",
    "        folded_training_corpus = shuffled_corpus[:i*fold_size] + shuffled_corpus[(i+1)*fold_size:]\n",
    "\n",
    "        if (tagger == 'hmm'):\n",
    "            tagger = nltk.HiddenMarkovModelTagger.train(folded_training_corpus)\n",
    "        elif (tagger == 'tnt'):\n",
    "            tagger = tnt.TnT()\n",
    "            tagger.train(folded_training_corpus)\n",
    "        accuracies.append(tagger.accuracy(folded_test_corpus))\n",
    "    return accuracies"
   ]
  },
  {
   "cell_type": "markdown",
   "metadata": {},
   "source": [
    "IC"
   ]
  },
  {
   "cell_type": "code",
   "execution_count": 5,
   "metadata": {},
   "outputs": [],
   "source": [
    "import numpy as np\n",
    "\n",
    "def return_ic(precision, n):\n",
    "    delta = 1.96 * np.sqrt(precision * (1 - precision) / n)\n",
    "    return delta"
   ]
  },
  {
   "cell_type": "markdown",
   "metadata": {},
   "source": [
    "### 2.2 Representación"
   ]
  },
  {
   "cell_type": "code",
   "execution_count": 6,
   "metadata": {},
   "outputs": [],
   "source": [
    "import matplotlib.pyplot as plt\n",
    "\n",
    "def plot_accuracy(results, ic, model_name):\n",
    "    x = [i for i in range(10)]\n",
    "    y = results\n",
    "    min_y = round(min(y) * 20) / 20\n",
    "    max_y = round(max(y) * 20) / 20\n",
    "    plt.axis([-1, 10, max(min_y - 0.1, 0), min(max_y + 0.1, 1)])\n",
    "    plt.ylabel('Accuracy')\n",
    "    plt.xlabel('Fold')\n",
    "    plt.title(f'Ten-fold cross validation - {model_name}')\n",
    "    plt.plot(x, y, 'ro')\n",
    "    plt.errorbar(x, y, yerr=ic, linestyle='None')\n",
    "    filename = f\"ten_fold_validation_{model_name}.png\"\n",
    "    plt.show()\n",
    "    plt.clf()"
   ]
  },
  {
   "cell_type": "markdown",
   "metadata": {},
   "source": [
    "## 3. HMM"
   ]
  },
  {
   "cell_type": "markdown",
   "metadata": {},
   "source": [
    "Entrenamiento"
   ]
  },
  {
   "cell_type": "code",
   "execution_count": 7,
   "metadata": {},
   "outputs": [],
   "source": [
    "tagger_hmm = hmm.HiddenMarkovModelTagger.train(training_corpus)"
   ]
  },
  {
   "cell_type": "markdown",
   "metadata": {},
   "source": [
    "Precisión del modelo"
   ]
  },
  {
   "cell_type": "code",
   "execution_count": 8,
   "metadata": {},
   "outputs": [
    {
     "name": "stdout",
     "output_type": "stream",
     "text": [
      "HMM accuracy: 0.928805\n"
     ]
    }
   ],
   "source": [
    "print(\"HMM accuracy: %f\" % tagger_hmm.accuracy(test_corpus))"
   ]
  },
  {
   "cell_type": "markdown",
   "metadata": {},
   "source": [
    "10-fold cross validation"
   ]
  },
  {
   "cell_type": "code",
   "execution_count": 9,
   "metadata": {},
   "outputs": [
    {
     "name": "stdout",
     "output_type": "stream",
     "text": [
      "HMM 10-fold accuracies: \n",
      "\tFold 1: 0.927993\n",
      "\t\tIC: 0.907361 - 0.948626\n",
      "\tFold 2: 0.973004\n",
      "\t\tIC: 0.960068 - 0.985940\n",
      "\tFold 3: 0.974203\n",
      "\t\tIC: 0.961550 - 0.986857\n",
      "\tFold 4: 0.971631\n",
      "\t\tIC: 0.958379 - 0.984883\n",
      "\tFold 5: 0.973001\n",
      "\t\tIC: 0.960064 - 0.985938\n",
      "\tFold 6: 0.974160\n",
      "\t\tIC: 0.961496 - 0.986823\n",
      "\tFold 7: 0.973412\n",
      "\t\tIC: 0.960572 - 0.986253\n",
      "\tFold 8: 0.972638\n",
      "\t\tIC: 0.959617 - 0.985659\n",
      "\tFold 9: 0.971939\n",
      "\t\tIC: 0.958758 - 0.985121\n",
      "\tFold 10: 0.973194\n",
      "\t\tIC: 0.960302 - 0.986086\n",
      "Mean accuracy: 0.968518\n",
      "Standard deviation: 0.013531\n"
     ]
    }
   ],
   "source": [
    "hmm_fold_accuracies = ten_fold_validation('hmm')\n",
    "hmm_fold_accuracies_ic = [return_ic(acc, len(transformed_corpus)/10) for acc in hmm_fold_accuracies]\n",
    "print(\"HMM 10-fold accuracies: \")\n",
    "for i, acc in enumerate(hmm_fold_accuracies):\n",
    "    print(\"\\tFold %d: %f\" % (i+1, acc))\n",
    "    print(\"\\t\\tIC: %f - %f\" % (acc - hmm_fold_accuracies_ic[i], acc + hmm_fold_accuracies_ic[i]))\n",
    "print(\"Mean accuracy: %f\" % np.mean(hmm_fold_accuracies))\n",
    "print(\"Standard deviation: %f\" % np.std(hmm_fold_accuracies))"
   ]
  },
  {
   "cell_type": "markdown",
   "metadata": {},
   "source": [
    "Representación"
   ]
  },
  {
   "cell_type": "code",
   "execution_count": 10,
   "metadata": {},
   "outputs": [
    {
     "data": {
      "image/png": "[encoded data removed]",
      "text/plain": [
       "<Figure size 640x480 with 1 Axes>"
      ]
     },
     "metadata": {},
     "output_type": "display_data"
    },
    {
     "data": {
      "text/plain": [
       "<Figure size 640x480 with 0 Axes>"
      ]
     },
     "metadata": {},
     "output_type": "display_data"
    }
   ],
   "source": [
    "plot_accuracy(hmm_fold_accuracies, hmm_fold_accuracies_ic, 'HMM')"
   ]
  },
  {
   "cell_type": "markdown",
   "metadata": {},
   "source": [
    "## 4. TNT"
   ]
  },
  {
   "cell_type": "markdown",
   "metadata": {},
   "source": [
    "Entrenamiento"
   ]
  },
  {
   "cell_type": "code",
   "execution_count": 13,
   "metadata": {},
   "outputs": [],
   "source": [
    "tagger_tnt = tnt.TnT()\n",
    "tagger_tnt.train(training_corpus)"
   ]
  },
  {
   "cell_type": "markdown",
   "metadata": {},
   "source": [
    "Precisión del modelo"
   ]
  },
  {
   "cell_type": "code",
   "execution_count": 14,
   "metadata": {},
   "outputs": [
    {
     "name": "stdout",
     "output_type": "stream",
     "text": [
      "TnT accuracy: 0.904265\n"
     ]
    }
   ],
   "source": [
    "print(\"TnT accuracy: %f\" % tagger_tnt.accuracy(test_corpus))"
   ]
  },
  {
   "cell_type": "markdown",
   "metadata": {},
   "source": [
    "10-fold cross validation"
   ]
  },
  {
   "cell_type": "code",
   "execution_count": 18,
   "metadata": {},
   "outputs": [
    {
     "name": "stdout",
     "output_type": "stream",
     "text": [
      "TnT 10-fold accuracies: \n",
      "\tFold 1: 0.898635\n",
      "\t\tIC: 0.874545 - 0.922725\n",
      "\tFold 2: 0.992614\n",
      "\t\tIC: 0.985780 - 0.999448\n",
      "\tFold 3: 0.992408\n",
      "\t\tIC: 0.985480 - 0.999336\n",
      "\tFold 4: 0.992891\n",
      "\t\tIC: 0.986185 - 0.999597\n",
      "\tFold 5: 0.991262\n",
      "\t\tIC: 0.983834 - 0.998691\n",
      "\tFold 6: 0.993370\n",
      "\t\tIC: 0.986892 - 0.999848\n",
      "\tFold 7: 0.991998\n",
      "\t\tIC: 0.984887 - 0.999110\n",
      "\tFold 8: 0.992255\n",
      "\t\tIC: 0.985257 - 0.999252\n",
      "\tFold 9: 0.992368\n",
      "\t\tIC: 0.985422 - 0.999315\n",
      "\tFold 10: 0.992753\n",
      "\t\tIC: 0.985982 - 0.999523\n",
      "Mean accuracy: 0.983055\n",
      "Standard deviation: 0.028145\n"
     ]
    }
   ],
   "source": [
    "tnt_fold_accuracies = ten_fold_validation('tnt')\n",
    "tnt_fold_accuracies_ic = [return_ic(acc, len(transformed_corpus)/10) for acc in tnt_fold_accuracies]\n",
    "print(\"TnT 10-fold accuracies: \")\n",
    "for i, acc in enumerate(tnt_fold_accuracies):\n",
    "    print(\"\\tFold %d: %f\" % (i+1, acc))\n",
    "    print(\"\\t\\tIC: %f - %f\" % (acc - tnt_fold_accuracies_ic[i], acc + tnt_fold_accuracies_ic[i]))\n",
    "print(\"Mean accuracy: %f\" % np.mean(tnt_fold_accuracies))\n",
    "print(\"Standard deviation: %f\" % np.std(tnt_fold_accuracies))"
   ]
  },
  {
   "cell_type": "markdown",
   "metadata": {},
   "source": [
    "Representación"
   ]
  },
  {
   "cell_type": "code",
   "execution_count": 19,
   "metadata": {},
   "outputs": [
    {
     "data": {
      "image/png": "[encoded data removed]",
      "text/plain": [
       "<Figure size 640x480 with 1 Axes>"
      ]
     },
     "metadata": {},
     "output_type": "display_data"
    },
    {
     "data": {
      "text/plain": [
       "<Figure size 640x480 with 0 Axes>"
      ]
     },
     "metadata": {},
     "output_type": "display_data"
    }
   ],
   "source": [
    "plot_accuracy(tnt_fold_accuracies, tnt_fold_accuracies_ic, 'TnT')"
   ]
  }
 ],
 "metadata": {
  "kernelspec": {
   "display_name": "base",
   "language": "python",
   "name": "python3"
  },
  "language_info": {
   "codemirror_mode": {
    "name": "ipython",
    "version": 3
   },
   "file_extension": ".py",
   "mimetype": "text/x-python",
   "name": "python",
   "nbconvert_exporter": "python",
   "pygments_lexer": "ipython3",
   "version": "3.11.5"
  },
  "orig_nbformat": 4
 },
 "nbformat": 4,
 "nbformat_minor": 2
}
